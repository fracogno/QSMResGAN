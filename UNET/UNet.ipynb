{
 "cells": [
  {
   "cell_type": "code",
   "execution_count": 1,
   "metadata": {},
   "outputs": [],
   "source": [
    "import tensorflow as tf\n",
    "import numpy as np\n",
    "import nibabel as nib\n",
    "import os\n",
    "import datetime\n",
    "\n",
    "import UNET\n",
    "\n",
    "\n",
    "%load_ext autoreload\n",
    "%autoreload 2"
   ]
  },
  {
   "cell_type": "code",
   "execution_count": 3,
   "metadata": {},
   "outputs": [
    {
     "name": "stdout",
     "output_type": "stream",
     "text": [
      "(1, 16, 16, 16, 1)\n",
      "(1, 16, 16, 16, 1)\n",
      "6.045983e-06\n",
      "-0.39283463\n"
     ]
    }
   ],
   "source": [
    "path = \"/home/francesco/UQ/Job/deepQSM/data/shapes_shape16_ex5_2019_03_26/\"\n",
    "\n",
    "X, Y = [], []\n",
    "for i in range(1, 2):\n",
    "    X.append(nib.load(path + \"traintrain1-size16-ex5_\" + str(i) + \"_forward_tfrange.nii\").get_data())\n",
    "    Y.append(nib.load(path + \"traintrain1-size16-ex5_\" + str(i) + \"_ground_truth_tfrange.nii\").get_data())\n",
    "\n",
    "X = np.array(X)\n",
    "Y = np.array(Y)\n",
    "\n",
    "X = np.expand_dims(X, axis=-1)\n",
    "Y = np.expand_dims(Y, axis=-1)\n",
    "\n",
    "print(X.shape)\n",
    "print(Y.shape)\n",
    "\n",
    "print(Y.max())\n",
    "print(Y.min())"
   ]
  },
  {
   "cell_type": "code",
   "execution_count": 4,
   "metadata": {},
   "outputs": [
    {
     "data": {
      "text/plain": [
       "'datenow = str(datetime.datetime.now())\\ntmp = (\"\").join(datenow.split(\":\")[:2])\\ntmp = (\"_\").join(tmp.split(\" \"))\\n\\ncheckpoint_name = \"../checkpoints/\" + tmp\\ntry:\\n    os.makedirs(checkpoint_name, exist_ok=True) \\nexcept FileExistsError:\\n    print(\"Directory already exists\")'"
      ]
     },
     "execution_count": 4,
     "metadata": {},
     "output_type": "execute_result"
    }
   ],
   "source": [
    "lr = 1e-4\n",
    "\n",
    "# Create folder for checkpoint\n",
    "'''datenow = str(datetime.datetime.now())\n",
    "tmp = (\"\").join(datenow.split(\":\")[:2])\n",
    "tmp = (\"_\").join(tmp.split(\" \"))\n",
    "\n",
    "checkpoint_name = \"../checkpoints/\" + tmp\n",
    "try:\n",
    "    os.makedirs(checkpoint_name, exist_ok=True) \n",
    "except FileExistsError:\n",
    "    print(\"Directory already exists\")'''"
   ]
  },
  {
   "cell_type": "code",
   "execution_count": 7,
   "metadata": {},
   "outputs": [],
   "source": [
    "tf.reset_default_graph()\n",
    "\n",
    "X_tensor = tf.placeholder(tf.float32, shape=[None, X.shape[1], X.shape[2], X.shape[3], X.shape[4]], name='X')\n",
    "Y_tensor = tf.placeholder(tf.float32, shape=[None, Y.shape[1], Y.shape[2], Y.shape[3], Y.shape[4]], name='Y')\n",
    "\n",
    "\n",
    "#X_tens, Y_tens = train_input_fn()\n",
    "output_layer = UNET.getNetwork(X_tensor)"
   ]
  },
  {
   "cell_type": "code",
   "execution_count": 8,
   "metadata": {},
   "outputs": [],
   "source": [
    "loss = tf.abs(output_layer - Y_tensor)\n",
    "optimizer = tf.train.AdamOptimizer(learning_rate=1e-4).minimize(loss)"
   ]
  },
  {
   "cell_type": "code",
   "execution_count": 9,
   "metadata": {
    "scrolled": true
   },
   "outputs": [
    {
     "name": "stdout",
     "output_type": "stream",
     "text": [
      "0.57631814\n",
      "0.5367216\n",
      "0.5010537\n",
      "0.4686398\n",
      "0.43916243\n",
      "0.41243735\n",
      "0.38801906\n",
      "0.3654077\n",
      "0.34427392\n",
      "0.3241024\n",
      "0.30456012\n",
      "0.2850356\n",
      "0.26468527\n",
      "0.24272314\n",
      "0.21733643\n",
      "0.18894827\n",
      "0.1625267\n",
      "0.14606965\n",
      "0.13445355\n",
      "0.122200206\n",
      "0.11452094\n",
      "0.11099585\n",
      "0.10909921\n",
      "0.107544996\n",
      "0.10580461\n",
      "0.10362302\n",
      "0.100942224\n",
      "0.09783802\n",
      "0.094456404\n",
      "0.09105727\n",
      "0.087974906\n",
      "0.08554742\n",
      "0.08417539\n",
      "0.08329333\n",
      "0.0817357\n",
      "0.07903167\n",
      "0.07563656\n",
      "0.072564974\n",
      "0.07044673\n",
      "0.06913409\n",
      "0.06798522\n",
      "0.06657718\n",
      "0.06492297\n",
      "0.0637613\n",
      "0.06337862\n",
      "0.06313662\n",
      "0.06227854\n",
      "0.060936287\n",
      "0.05974868\n",
      "0.05896057\n",
      "0.058201507\n",
      "0.057134047\n",
      "0.055866566\n",
      "0.05485169\n",
      "0.054196343\n",
      "0.053469356\n",
      "0.052454382\n",
      "0.051576\n",
      "0.050951876\n",
      "0.050222065\n",
      "0.04930538\n",
      "0.04847765\n",
      "0.04785858\n",
      "0.047149487\n",
      "0.0463212\n",
      "0.045710813\n",
      "0.045099407\n",
      "0.044357754\n",
      "0.043710973\n",
      "0.04308672\n",
      "0.042330198\n",
      "0.041676156\n",
      "0.04103657\n",
      "0.040359072\n",
      "0.03977734\n",
      "0.03912542\n",
      "0.038490225\n",
      "0.03790702\n",
      "0.037274446\n",
      "0.036757536\n",
      "0.03616912\n",
      "0.035654318\n",
      "0.035123818\n",
      "0.034640394\n",
      "0.034138843\n",
      "0.03366548\n",
      "0.033173297\n",
      "0.03271559\n",
      "0.032255046\n",
      "0.031797487\n",
      "0.031371016\n",
      "0.030963475\n",
      "0.030575806\n",
      "0.030187018\n",
      "0.029840108\n",
      "0.029513653\n",
      "0.029187435\n",
      "0.02885389\n",
      "0.028459534\n",
      "0.028095463\n",
      "0.02777426\n",
      "0.027471257\n",
      "0.027183156\n",
      "0.026940105\n",
      "0.02693411\n",
      "0.025996776\n",
      "0.025827516\n",
      "0.025154434\n",
      "0.02513266\n",
      "0.024785243\n",
      "0.024344817\n",
      "0.023684217\n",
      "0.023582531\n",
      "0.02312419\n",
      "0.022823041\n",
      "0.022787027\n",
      "0.022284139\n",
      "0.021963688\n",
      "0.021925207\n",
      "0.021576403\n",
      "0.021227984\n",
      "0.021192417\n",
      "0.020911697\n",
      "0.020590022\n",
      "0.02050542\n",
      "0.020262035\n",
      "0.019978605\n",
      "0.01983125\n",
      "0.019797679\n",
      "0.019326005\n",
      "0.019199748\n",
      "0.018840631\n",
      "0.018810047\n",
      "0.018506533\n",
      "0.018349374\n",
      "0.018255092\n",
      "0.01794976\n",
      "0.01782211\n",
      "0.017755866\n",
      "0.01766154\n",
      "0.01752196\n",
      "0.017331084\n",
      "0.017238377\n",
      "0.017187227\n",
      "0.017108705\n",
      "0.016840303\n",
      "0.01661896\n",
      "0.016537739\n",
      "0.01640797\n",
      "0.016221827\n",
      "0.016126025\n",
      "0.016063381\n",
      "0.016031459\n",
      "0.01600876\n",
      "0.015731115\n",
      "0.01572169\n",
      "0.015450856\n",
      "0.0153542515\n",
      "0.015285852\n",
      "0.0151233245\n",
      "0.014889542\n",
      "0.014731962\n",
      "0.014705222\n",
      "0.014610483\n",
      "0.014574807\n",
      "0.014307159\n",
      "0.01410085\n",
      "0.014010012\n",
      "0.013977694\n",
      "0.013647552\n",
      "0.013549212\n",
      "0.013516597\n",
      "0.013310652\n",
      "0.01315672\n",
      "0.012997777\n",
      "0.012943285\n",
      "0.012938644\n",
      "0.012668897\n",
      "0.012569714\n",
      "0.012506216\n",
      "0.012325481\n",
      "0.0121627515\n",
      "0.0120465625\n",
      "0.0119277695\n",
      "0.011911542\n",
      "0.01182854\n",
      "0.011825844\n",
      "0.011709342\n",
      "0.011666298\n",
      "0.011532048\n",
      "0.011413408\n",
      "0.011378149\n",
      "0.011332637\n",
      "0.011135878\n",
      "0.011047727\n",
      "0.010886924\n",
      "0.010659838\n",
      "0.010577941\n",
      "0.010455918\n",
      "0.010356954\n",
      "0.010200787\n",
      "0.010039968\n",
      "0.01001629\n",
      "0.0099781975\n",
      "0.009899119\n",
      "0.009825733\n",
      "0.009683017\n",
      "0.009595246\n",
      "0.009583278\n",
      "0.00949581\n",
      "0.00944862\n",
      "0.009379472\n",
      "0.009368306\n",
      "0.0092986375\n",
      "0.009074392\n",
      "0.009013839\n",
      "0.008846943\n",
      "0.008818517\n",
      "0.008691611\n",
      "0.008668417\n",
      "0.008648876\n",
      "0.008510212\n",
      "0.008414842\n",
      "0.0083165765\n",
      "0.008158166\n",
      "0.008035151\n",
      "0.0080348365\n",
      "0.007998769\n",
      "0.007925588\n",
      "0.007900392\n",
      "0.0077214926\n",
      "0.007614099\n",
      "0.0075094434\n",
      "0.0074553434\n",
      "0.0074517326\n",
      "0.007331581\n",
      "0.007183864\n",
      "0.0071236463\n",
      "0.007031981\n",
      "0.0069568567\n"
     ]
    },
    {
     "ename": "KeyboardInterrupt",
     "evalue": "",
     "output_type": "error",
     "traceback": [
      "\u001b[0;31m---------------------------------------------------------------------------\u001b[0m",
      "\u001b[0;31mKeyboardInterrupt\u001b[0m                         Traceback (most recent call last)",
      "\u001b[0;32m<ipython-input-9-72deb967c3c9>\u001b[0m in \u001b[0;36m<module>\u001b[0;34m\u001b[0m\n\u001b[1;32m     11\u001b[0m \u001b[0;34m\u001b[0m\u001b[0m\n\u001b[1;32m     12\u001b[0m         _, loss_val = sess.run([optimizer, loss], feed_dict={X_tensor : X, \n\u001b[0;32m---> 13\u001b[0;31m                                                              Y_tensor : Y})\n\u001b[0m\u001b[1;32m     14\u001b[0m         \u001b[0mtmp\u001b[0m \u001b[0;34m=\u001b[0m \u001b[0mnp\u001b[0m\u001b[0;34m.\u001b[0m\u001b[0mmean\u001b[0m\u001b[0;34m(\u001b[0m\u001b[0mloss_val\u001b[0m\u001b[0;34m)\u001b[0m\u001b[0;34m\u001b[0m\u001b[0;34m\u001b[0m\u001b[0m\n\u001b[1;32m     15\u001b[0m \u001b[0;34m\u001b[0m\u001b[0m\n",
      "\u001b[0;32m~/anaconda3/lib/python3.7/site-packages/tensorflow/python/client/session.py\u001b[0m in \u001b[0;36mrun\u001b[0;34m(self, fetches, feed_dict, options, run_metadata)\u001b[0m\n\u001b[1;32m    927\u001b[0m     \u001b[0;32mtry\u001b[0m\u001b[0;34m:\u001b[0m\u001b[0;34m\u001b[0m\u001b[0;34m\u001b[0m\u001b[0m\n\u001b[1;32m    928\u001b[0m       result = self._run(None, fetches, feed_dict, options_ptr,\n\u001b[0;32m--> 929\u001b[0;31m                          run_metadata_ptr)\n\u001b[0m\u001b[1;32m    930\u001b[0m       \u001b[0;32mif\u001b[0m \u001b[0mrun_metadata\u001b[0m\u001b[0;34m:\u001b[0m\u001b[0;34m\u001b[0m\u001b[0;34m\u001b[0m\u001b[0m\n\u001b[1;32m    931\u001b[0m         \u001b[0mproto_data\u001b[0m \u001b[0;34m=\u001b[0m \u001b[0mtf_session\u001b[0m\u001b[0;34m.\u001b[0m\u001b[0mTF_GetBuffer\u001b[0m\u001b[0;34m(\u001b[0m\u001b[0mrun_metadata_ptr\u001b[0m\u001b[0;34m)\u001b[0m\u001b[0;34m\u001b[0m\u001b[0;34m\u001b[0m\u001b[0m\n",
      "\u001b[0;32m~/anaconda3/lib/python3.7/site-packages/tensorflow/python/client/session.py\u001b[0m in \u001b[0;36m_run\u001b[0;34m(self, handle, fetches, feed_dict, options, run_metadata)\u001b[0m\n\u001b[1;32m   1150\u001b[0m     \u001b[0;32mif\u001b[0m \u001b[0mfinal_fetches\u001b[0m \u001b[0;32mor\u001b[0m \u001b[0mfinal_targets\u001b[0m \u001b[0;32mor\u001b[0m \u001b[0;34m(\u001b[0m\u001b[0mhandle\u001b[0m \u001b[0;32mand\u001b[0m \u001b[0mfeed_dict_tensor\u001b[0m\u001b[0;34m)\u001b[0m\u001b[0;34m:\u001b[0m\u001b[0;34m\u001b[0m\u001b[0;34m\u001b[0m\u001b[0m\n\u001b[1;32m   1151\u001b[0m       results = self._do_run(handle, final_targets, final_fetches,\n\u001b[0;32m-> 1152\u001b[0;31m                              feed_dict_tensor, options, run_metadata)\n\u001b[0m\u001b[1;32m   1153\u001b[0m     \u001b[0;32melse\u001b[0m\u001b[0;34m:\u001b[0m\u001b[0;34m\u001b[0m\u001b[0;34m\u001b[0m\u001b[0m\n\u001b[1;32m   1154\u001b[0m       \u001b[0mresults\u001b[0m \u001b[0;34m=\u001b[0m \u001b[0;34m[\u001b[0m\u001b[0;34m]\u001b[0m\u001b[0;34m\u001b[0m\u001b[0;34m\u001b[0m\u001b[0m\n",
      "\u001b[0;32m~/anaconda3/lib/python3.7/site-packages/tensorflow/python/client/session.py\u001b[0m in \u001b[0;36m_do_run\u001b[0;34m(self, handle, target_list, fetch_list, feed_dict, options, run_metadata)\u001b[0m\n\u001b[1;32m   1326\u001b[0m     \u001b[0;32mif\u001b[0m \u001b[0mhandle\u001b[0m \u001b[0;32mis\u001b[0m \u001b[0;32mNone\u001b[0m\u001b[0;34m:\u001b[0m\u001b[0;34m\u001b[0m\u001b[0;34m\u001b[0m\u001b[0m\n\u001b[1;32m   1327\u001b[0m       return self._do_call(_run_fn, feeds, fetches, targets, options,\n\u001b[0;32m-> 1328\u001b[0;31m                            run_metadata)\n\u001b[0m\u001b[1;32m   1329\u001b[0m     \u001b[0;32melse\u001b[0m\u001b[0;34m:\u001b[0m\u001b[0;34m\u001b[0m\u001b[0;34m\u001b[0m\u001b[0m\n\u001b[1;32m   1330\u001b[0m       \u001b[0;32mreturn\u001b[0m \u001b[0mself\u001b[0m\u001b[0;34m.\u001b[0m\u001b[0m_do_call\u001b[0m\u001b[0;34m(\u001b[0m\u001b[0m_prun_fn\u001b[0m\u001b[0;34m,\u001b[0m \u001b[0mhandle\u001b[0m\u001b[0;34m,\u001b[0m \u001b[0mfeeds\u001b[0m\u001b[0;34m,\u001b[0m \u001b[0mfetches\u001b[0m\u001b[0;34m)\u001b[0m\u001b[0;34m\u001b[0m\u001b[0;34m\u001b[0m\u001b[0m\n",
      "\u001b[0;32m~/anaconda3/lib/python3.7/site-packages/tensorflow/python/client/session.py\u001b[0m in \u001b[0;36m_do_call\u001b[0;34m(self, fn, *args)\u001b[0m\n\u001b[1;32m   1332\u001b[0m   \u001b[0;32mdef\u001b[0m \u001b[0m_do_call\u001b[0m\u001b[0;34m(\u001b[0m\u001b[0mself\u001b[0m\u001b[0;34m,\u001b[0m \u001b[0mfn\u001b[0m\u001b[0;34m,\u001b[0m \u001b[0;34m*\u001b[0m\u001b[0margs\u001b[0m\u001b[0;34m)\u001b[0m\u001b[0;34m:\u001b[0m\u001b[0;34m\u001b[0m\u001b[0;34m\u001b[0m\u001b[0m\n\u001b[1;32m   1333\u001b[0m     \u001b[0;32mtry\u001b[0m\u001b[0;34m:\u001b[0m\u001b[0;34m\u001b[0m\u001b[0;34m\u001b[0m\u001b[0m\n\u001b[0;32m-> 1334\u001b[0;31m       \u001b[0;32mreturn\u001b[0m \u001b[0mfn\u001b[0m\u001b[0;34m(\u001b[0m\u001b[0;34m*\u001b[0m\u001b[0margs\u001b[0m\u001b[0;34m)\u001b[0m\u001b[0;34m\u001b[0m\u001b[0;34m\u001b[0m\u001b[0m\n\u001b[0m\u001b[1;32m   1335\u001b[0m     \u001b[0;32mexcept\u001b[0m \u001b[0merrors\u001b[0m\u001b[0;34m.\u001b[0m\u001b[0mOpError\u001b[0m \u001b[0;32mas\u001b[0m \u001b[0me\u001b[0m\u001b[0;34m:\u001b[0m\u001b[0;34m\u001b[0m\u001b[0;34m\u001b[0m\u001b[0m\n\u001b[1;32m   1336\u001b[0m       \u001b[0mmessage\u001b[0m \u001b[0;34m=\u001b[0m \u001b[0mcompat\u001b[0m\u001b[0;34m.\u001b[0m\u001b[0mas_text\u001b[0m\u001b[0;34m(\u001b[0m\u001b[0me\u001b[0m\u001b[0;34m.\u001b[0m\u001b[0mmessage\u001b[0m\u001b[0;34m)\u001b[0m\u001b[0;34m\u001b[0m\u001b[0;34m\u001b[0m\u001b[0m\n",
      "\u001b[0;32m~/anaconda3/lib/python3.7/site-packages/tensorflow/python/client/session.py\u001b[0m in \u001b[0;36m_run_fn\u001b[0;34m(feed_dict, fetch_list, target_list, options, run_metadata)\u001b[0m\n\u001b[1;32m   1317\u001b[0m       \u001b[0mself\u001b[0m\u001b[0;34m.\u001b[0m\u001b[0m_extend_graph\u001b[0m\u001b[0;34m(\u001b[0m\u001b[0;34m)\u001b[0m\u001b[0;34m\u001b[0m\u001b[0;34m\u001b[0m\u001b[0m\n\u001b[1;32m   1318\u001b[0m       return self._call_tf_sessionrun(\n\u001b[0;32m-> 1319\u001b[0;31m           options, feed_dict, fetch_list, target_list, run_metadata)\n\u001b[0m\u001b[1;32m   1320\u001b[0m \u001b[0;34m\u001b[0m\u001b[0m\n\u001b[1;32m   1321\u001b[0m     \u001b[0;32mdef\u001b[0m \u001b[0m_prun_fn\u001b[0m\u001b[0;34m(\u001b[0m\u001b[0mhandle\u001b[0m\u001b[0;34m,\u001b[0m \u001b[0mfeed_dict\u001b[0m\u001b[0;34m,\u001b[0m \u001b[0mfetch_list\u001b[0m\u001b[0;34m)\u001b[0m\u001b[0;34m:\u001b[0m\u001b[0;34m\u001b[0m\u001b[0;34m\u001b[0m\u001b[0m\n",
      "\u001b[0;32m~/anaconda3/lib/python3.7/site-packages/tensorflow/python/client/session.py\u001b[0m in \u001b[0;36m_call_tf_sessionrun\u001b[0;34m(self, options, feed_dict, fetch_list, target_list, run_metadata)\u001b[0m\n\u001b[1;32m   1405\u001b[0m     return tf_session.TF_SessionRun_wrapper(\n\u001b[1;32m   1406\u001b[0m         \u001b[0mself\u001b[0m\u001b[0;34m.\u001b[0m\u001b[0m_session\u001b[0m\u001b[0;34m,\u001b[0m \u001b[0moptions\u001b[0m\u001b[0;34m,\u001b[0m \u001b[0mfeed_dict\u001b[0m\u001b[0;34m,\u001b[0m \u001b[0mfetch_list\u001b[0m\u001b[0;34m,\u001b[0m \u001b[0mtarget_list\u001b[0m\u001b[0;34m,\u001b[0m\u001b[0;34m\u001b[0m\u001b[0;34m\u001b[0m\u001b[0m\n\u001b[0;32m-> 1407\u001b[0;31m         run_metadata)\n\u001b[0m\u001b[1;32m   1408\u001b[0m \u001b[0;34m\u001b[0m\u001b[0m\n\u001b[1;32m   1409\u001b[0m   \u001b[0;32mdef\u001b[0m \u001b[0m_call_tf_sessionprun\u001b[0m\u001b[0;34m(\u001b[0m\u001b[0mself\u001b[0m\u001b[0;34m,\u001b[0m \u001b[0mhandle\u001b[0m\u001b[0;34m,\u001b[0m \u001b[0mfeed_dict\u001b[0m\u001b[0;34m,\u001b[0m \u001b[0mfetch_list\u001b[0m\u001b[0;34m)\u001b[0m\u001b[0;34m:\u001b[0m\u001b[0;34m\u001b[0m\u001b[0;34m\u001b[0m\u001b[0m\n",
      "\u001b[0;31mKeyboardInterrupt\u001b[0m: "
     ]
    }
   ],
   "source": [
    "min_val = 100\n",
    "with tf.Session() as sess:\n",
    "\n",
    "    saver = tf.train.Saver()\n",
    "    sess.run(tf.global_variables_initializer())\n",
    "    \n",
    "    for n in range(3000):\n",
    "        \n",
    "        #features, labels = sess.run(train_input_fn())\n",
    "        #features = features[\"x\"]\n",
    "        \n",
    "        _, loss_val = sess.run([optimizer, loss], feed_dict={X_tensor : X, \n",
    "                                                             Y_tensor : Y})\n",
    "        tmp = np.mean(loss_val)\n",
    "        \n",
    "        if tmp < min_val:\n",
    "            min_val = tmp\n",
    "            save_path = saver.save(sess, \"../checkpoints/model.ckpt\")\n",
    "            print(min_val)"
   ]
  },
  {
   "cell_type": "code",
   "execution_count": 10,
   "metadata": {
    "scrolled": true
   },
   "outputs": [
    {
     "name": "stdout",
     "output_type": "stream",
     "text": [
      "WARNING:tensorflow:From /home/francesco/anaconda3/lib/python3.7/site-packages/tensorflow/python/training/saver.py:1266: checkpoint_exists (from tensorflow.python.training.checkpoint_management) is deprecated and will be removed in a future version.\n",
      "Instructions for updating:\n",
      "Use standard file APIs to check for files with this prefix.\n",
      "INFO:tensorflow:Restoring parameters from ../checkpoints/model.ckpt\n",
      "(1, 16, 16, 16, 1)\n",
      "0.006975935\n",
      "0.006975935\n"
     ]
    }
   ],
   "source": [
    "with tf.Session() as sess:\n",
    "    saver = tf.train.Saver()\n",
    "    sess.run(tf.global_variables_initializer())\n",
    "    saver.restore(sess, \"../checkpoints/model.ckpt\") \n",
    "\n",
    "    \n",
    "    img_gen, loss_val = sess.run([output_layer, loss], feed_dict={X_tensor : X, \n",
    "                                                                  Y_tensor : Y})\n",
    "    \n",
    "    print(img_gen.shape)\n",
    "    print(np.mean(loss_val))\n",
    "    print(np.mean(np.abs(img_gen - Y)))"
   ]
  },
  {
   "cell_type": "code",
   "execution_count": 11,
   "metadata": {},
   "outputs": [
    {
     "name": "stdout",
     "output_type": "stream",
     "text": [
      "[-0.2693951  -0.26903522 -0.26928908 -0.259717   -0.28455028 -0.28335452\n",
      " -0.26757747 -0.2665941  -0.27401096 -0.26967514 -0.2705316  -0.27128914\n",
      " -0.2826149  -0.26738238 -0.2696941  -0.093555  ]\n",
      "[-2.723028e-01 -2.723028e-01 -2.723028e-01 -2.723028e-01 -2.723028e-01\n",
      " -2.723028e-01 -2.723028e-01 -2.723028e-01 -2.723028e-01 -2.723028e-01\n",
      " -2.723028e-01 -2.723028e-01 -2.723028e-01 -2.723028e-01 -2.723028e-01\n",
      "  1.739370e-20]\n"
     ]
    }
   ],
   "source": [
    "print(img_gen[0,12,:,8,0])\n",
    "print(Y[0,12,:,8,0])"
   ]
  },
  {
   "cell_type": "code",
   "execution_count": 13,
   "metadata": {},
   "outputs": [
    {
     "name": "stdout",
     "output_type": "stream",
     "text": [
      "(16, 16)\n"
     ]
    },
    {
     "data": {
      "image/png": "[encoded data removed]",
      "text/plain": [
       "<Figure size 432x288 with 1 Axes>"
      ]
     },
     "metadata": {
      "needs_background": "light"
     },
     "output_type": "display_data"
    },
    {
     "data": {
      "image/png": "[encoded data removed]",
      "text/plain": [
       "<Figure size 432x288 with 1 Axes>"
      ]
     },
     "metadata": {
      "needs_background": "light"
     },
     "output_type": "display_data"
    },
    {
     "data": {
      "image/png": "[encoded data removed]",
      "text/plain": [
       "<Figure size 432x288 with 1 Axes>"
      ]
     },
     "metadata": {
      "needs_background": "light"
     },
     "output_type": "display_data"
    }
   ],
   "source": [
    "import matplotlib.pyplot as plt\n",
    "\n",
    "img_ind = 0\n",
    "z = 8\n",
    "\n",
    "data = np.squeeze(img_gen[img_ind,:,:,z], axis=2)\n",
    "print(data.shape)\n",
    "\n",
    "plt.imshow(data, cmap=\"gray\")\n",
    "plt.show()\n",
    "\n",
    "plt.imshow(np.squeeze(X[img_ind,:,:,z], axis=2), cmap=\"gray\")\n",
    "plt.show()\n",
    "\n",
    "plt.imshow(np.squeeze(Y[img_ind,:,:,z], axis=2), cmap=\"gray\")\n",
    "plt.show()"
   ]
  },
  {
   "cell_type": "code",
   "execution_count": null,
   "metadata": {},
   "outputs": [],
   "source": []
  }
 ],
 "metadata": {
  "kernelspec": {
   "display_name": "Python 3",
   "language": "python",
   "name": "python3"
  },
  "language_info": {
   "codemirror_mode": {
    "name": "ipython",
    "version": 3
   },
   "file_extension": ".py",
   "mimetype": "text/x-python",
   "name": "python",
   "nbconvert_exporter": "python",
   "pygments_lexer": "ipython3",
   "version": "3.7.1"
  }
 },
 "nbformat": 4,
 "nbformat_minor": 2
}
